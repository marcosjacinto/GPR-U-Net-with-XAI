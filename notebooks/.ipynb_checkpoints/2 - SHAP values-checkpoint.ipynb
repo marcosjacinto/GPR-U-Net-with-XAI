{
 "cells": [
  {
   "cell_type": "code",
   "execution_count": 1,
   "metadata": {
    "id": "c8i7Fe1DhxQ1"
   },
   "outputs": [
    {
     "ename": "RuntimeError",
     "evalue": "module compiled against API version 0xe but this version of numpy is 0xd",
     "output_type": "error",
     "traceback": [
      "\u001b[0;31m---------------------------------------------------------------------------\u001b[0m",
      "\u001b[0;31mRuntimeError\u001b[0m                              Traceback (most recent call last)",
      "\u001b[0;31mRuntimeError\u001b[0m: module compiled against API version 0xe but this version of numpy is 0xd"
     ]
    }
   ],
   "source": [
    "from pickle import dump\n",
    "\n",
    "import numpy as np\n",
    "import matplotlib.pyplot as plt\n",
    "from tensorflow import keras\n",
    "import tensorflow as tf\n",
    "from tensorflow.keras.layers import Flatten\n",
    "from tensorflow.keras.models import Sequential\n",
    "\n",
    "import shap\n",
    "shap.explainers._deep.deep_tf.op_handlers[\"Conv2DBackpropInput\"] = shap.explainers._deep.deep_tf.passthrough"
   ]
  },
  {
   "cell_type": "code",
   "execution_count": 3,
   "metadata": {
    "id": "lfuUVdt4jSIf"
   },
   "outputs": [],
   "source": [
    "modelName = 'model_5x5_8filters_complete.h5'\n",
    "model = keras.models.load_model('../model/models/' + modelName)"
   ]
  },
  {
   "cell_type": "code",
   "execution_count": 4,
   "metadata": {
    "id": "RMtdjea8RTBN"
   },
   "outputs": [],
   "source": [
    "flattened_model = Sequential()\n",
    "flattened_model.add(model)\n",
    "flattened_model.add(Flatten())\n",
    "flattened_model.compile()"
   ]
  },
  {
   "cell_type": "code",
   "execution_count": 5,
   "metadata": {
    "id": "oYZVeBtekBMG"
   },
   "outputs": [],
   "source": [
    "data_path = '../data/processed/'\n",
    "\n",
    "x_train = np.load(data_path + 'x_train.npy')\n",
    "y_train = np.load(data_path + 'y_train.npy')\n",
    "x_test = np.load(data_path + 'x_test.npy')\n",
    "y_test = np.load(data_path + 'y_test.npy')"
   ]
  },
  {
   "cell_type": "markdown",
   "metadata": {
    "id": "p5_howGASd4E"
   },
   "source": [
    "## Background formed mostly by karstified zones"
   ]
  },
  {
   "cell_type": "code",
   "execution_count": 26,
   "metadata": {
    "id": "Cp3rzR_rxXa5"
   },
   "outputs": [
    {
     "name": "stdout",
     "output_type": "stream",
     "text": [
      "Proportion of karstified zones: 80.75%\n"
     ]
    }
   ],
   "source": [
    "sampled_idx = np.random.choice(x_train.shape[0], 100, replace=False)\n",
    "background_samples = x_train[sampled_idx]\n",
    "\n",
    "proportion = y_train[sampled_idx].sum()/(16*16*100)\n",
    "print(f'Proportion of karstified zones: {proportion * 100:.2f}%')"
   ]
  },
  {
   "cell_type": "code",
   "execution_count": null,
   "metadata": {},
   "outputs": [],
   "source": [
    "deep = shap.DeepExplainer(flattened_model, background_samples)"
   ]
  },
  {
   "cell_type": "markdown",
   "metadata": {
    "id": "wCwSRa2rGczV"
   },
   "source": [
    "## Background formed mostly by karstified zones"
   ]
  },
  {
   "cell_type": "code",
   "execution_count": 24,
   "metadata": {
    "id": "H9XJDHDy_dih"
   },
   "outputs": [
    {
     "name": "stdout",
     "output_type": "stream",
     "text": [
      "Proportion of karstified zones: 11.36%\n"
     ]
    }
   ],
   "source": [
    "possible_idx = []\n",
    "\n",
    "for n in range(y_train.shape[0]):\n",
    "  if y_train[n].sum() < 150:\n",
    "    possible_idx.append(n)\n",
    "\n",
    "sampled_idx = np.random.choice(possible_idx, size = 100, replace = False)\n",
    "background_samples = x_train[sampled_idx]\n",
    "\n",
    "proportion = y_train[sampled_idx].sum()/(16*16*100)\n",
    "print(f'Proportion of karstified zones: {proportion * 100:.2f}%')"
   ]
  },
  {
   "cell_type": "code",
   "execution_count": null,
   "metadata": {
    "colab": {
     "base_uri": "https://localhost:8080/"
    },
    "id": "anNLk_YpHHT9",
    "outputId": "fcf0c7a6-aa68-41f1-d2d5-5db66f4906ed"
   },
   "outputs": [
    {
     "name": "stderr",
     "output_type": "stream",
     "text": [
      "Your TensorFlow version is newer than 2.4.0 and so graph support has been removed in eager mode. See PR #1483 for discussion.\n"
     ]
    }
   ],
   "source": [
    "deep = shap.DeepExplainer(flattened_model, background_samples)"
   ]
  },
  {
   "cell_type": "markdown",
   "metadata": {
    "id": "VLvmh-S3JYPp"
   },
   "source": [
    "## Balanced background"
   ]
  },
  {
   "cell_type": "code",
   "execution_count": 25,
   "metadata": {
    "id": "96UUd-dKIY4J"
   },
   "outputs": [
    {
     "name": "stdout",
     "output_type": "stream",
     "text": [
      "Proportion of karstified zones: 51.81%\n"
     ]
    }
   ],
   "source": [
    "possible_idx = []\n",
    "\n",
    "for n in range(y_train.shape[0]):\n",
    "  if (y_train[n].sum() < 150) and (y_train[n].sum() > 116):\n",
    "    possible_idx.append(n)\n",
    "\n",
    "sampled_idx = np.random.choice(possible_idx, size = 100, replace = False)\n",
    "background_samples = x_train[sampled_idx]\n",
    "\n",
    "proportion = y_train[sampled_idx].sum()/(16*16*100)\n",
    "print(f'Proportion of karstified zones: {proportion * 100:.2f}%')"
   ]
  },
  {
   "cell_type": "code",
   "execution_count": 22,
   "metadata": {
    "colab": {
     "base_uri": "https://localhost:8080/"
    },
    "id": "Af7oPL-rJjvm",
    "outputId": "304a716b-2965-469c-9a3a-2a15ea471d50"
   },
   "outputs": [],
   "source": [
    "deep = shap.DeepExplainer(flattened_model, background_samples)"
   ]
  },
  {
   "cell_type": "markdown",
   "metadata": {},
   "source": [
    "## Results - Complete Model"
   ]
  },
  {
   "cell_type": "code",
   "execution_count": 30,
   "metadata": {},
   "outputs": [],
   "source": [
    "path = '../xai/results/'\n",
    "\n",
    "background_type = 'balanced' # balanced, not_karstified or karstified\n",
    "current = 'a' # a, b, c or d\n",
    "\n",
    "x_test_section_2 = np.load(path + f'x_test_area_{current}.npy').astype(np.float16)\n",
    "y_test_section_2 = np.load(path + f'y_test_area_{current}.npy').astype(np.float16)"
   ]
  },
  {
   "cell_type": "code",
   "execution_count": 31,
   "metadata": {},
   "outputs": [
    {
     "data": {
      "text/plain": [
       "<matplotlib.image.AxesImage at 0x7fdcb2d6ec40>"
      ]
     },
     "execution_count": 31,
     "metadata": {},
     "output_type": "execute_result"
    },
    {
     "data": {
      "image/png": "[encoded data removed]",
      "text/plain": [
       "<Figure size 720x720 with 2 Axes>"
      ]
     },
     "metadata": {
      "needs_background": "light"
     },
     "output_type": "display_data"
    }
   ],
   "source": [
    "fig, ax = plt.subplots(1, 2, figsize = (10, 10))\n",
    "\n",
    "ax[0].imshow(x_test_section_2[..., 0].astype(np.float32), cmap = 'gray')\n",
    "ax[1].imshow(y_test_section_2.astype(int), cmap = 'gray')"
   ]
  },
  {
   "cell_type": "code",
   "execution_count": 35,
   "metadata": {},
   "outputs": [
    {
     "name": "stdout",
     "output_type": "stream",
     "text": [
      "Total number of samples that must be explained to construct the area: 289\n"
     ]
    }
   ],
   "source": [
    "number_of_features = 5\n",
    "\n",
    "sampleSize = 16\n",
    "step_div = 2 #1, 2, 4, 8 or 16 -> the density of sampling\n",
    "step = int(sampleSize/step_div)\n",
    "shape1, shape2 = x_test_section_2.shape[0], x_test_section_2.shape[1]\n",
    "\n",
    "total_samples = 0\n",
    "for i in range(int(shape1/(step)) - (step_div - 1)):\n",
    "  for w in range(int(shape2/(step)) - (step_div - 1)):\n",
    "    total_samples += 1\n",
    "\n",
    "print(f'Total number of samples that must be explained to construct the area: {total_samples}')"
   ]
  },
  {
   "cell_type": "code",
   "execution_count": 37,
   "metadata": {},
   "outputs": [],
   "source": [
    "x_predicted_full = np.empty(\n",
    "    (shape1, shape2, 1))\n",
    "\n",
    "channel_contribution_full = np.empty(\n",
    "    (shape1, shape2, number_of_features))\n",
    "\n",
    "approximation_full = np.empty(\n",
    "    (shape1, shape2))\n",
    "\n",
    "x_sampled = np.empty((total_samples, sampleSize, sampleSize, number_of_features))\n",
    "channel_contribution_list = []\n",
    "approximation_list = []"
   ]
  },
  {
   "cell_type": "code",
   "execution_count": null,
   "metadata": {},
   "outputs": [],
   "source": [
    "n = 0\n",
    "for i in range(int(shape1/(step)) - (step_div - 1)):\n",
    "  istart = int(step * i)\n",
    "  iend = int(istart + sampleSize)\n",
    "  for w in range(int(shape2/(step)) - (step_div - 1)):\n",
    "    wstart = int(step * w)\n",
    "    wend = int(wstart + sampleSize)\n",
    "    x_sampled[n] = x_test_section_2[istart : iend, wstart : wend, :].reshape(1, sampleSize, sampleSize, number_of_features)\n",
    "\n",
    "    shap_values = deep.shap_values(x_sampled[n:n+1]) # Explain prediction\n",
    "\n",
    "    channel_contribution = np.array([shap.sum(axis = 1).sum(axis = 1) for shap in shap_values]).reshape(16, 16, number_of_features)\n",
    "    sum_of_shap_values = [shap.sum() for shap in shap_values]\n",
    "    approximation = tf.reshape((np.array(sum_of_shap_values) + deep.expected_value), (16, 16))\n",
    "\n",
    "    channel_contribution_list.append(channel_contribution)\n",
    "    approximation_list.append(approximation)\n",
    "\n",
    "    print(f'Concluded {n + 1}/{total}')\n",
    "\n",
    "    n += 1\n",
    "\n",
    "predicted = model.predict(compx)"
   ]
  },
  {
   "cell_type": "code",
   "execution_count": null,
   "metadata": {},
   "outputs": [],
   "source": [
    "# Reconstruction of the images:\n",
    "\n",
    "n = 0\n",
    "for i in range(int(shape1/(step)) - (step_div - 1)):\n",
    "  istart = int(step * i)\n",
    "  iend = int(istart + sampleSize)\n",
    "  for w in range(int(shape2/(step)) - (step_div - 1)):\n",
    "    wstart = int(step * w)\n",
    "    wend = int(wstart + sampleSize)\n",
    "    x_predicted_full[istart : iend, wstart : wend] = predicted[n]\n",
    "    channel_contribution_full[istart : iend, wstart : wend] = channel_contribution_list[n]\n",
    "    approximation_full[istart : iend, wstart : wend] = approximation_list[n]\n",
    "    \n",
    "    n += 1"
   ]
  },
  {
   "cell_type": "code",
   "execution_count": null,
   "metadata": {},
   "outputs": [],
   "source": [
    "np.save(path + f'approximation_full_{current}-{background_type}.npy', approximation_full)\n",
    "np.save(path + f'channel_contribution_full_{current}-{background_type}.npy', channel_contribution_full)\n",
    "np.save(path + f'x_predicted_full_{current}-{background_type}.npy', x_predicted_full)\n",
    "np.save(path + f'expected_value-{background_type}.npy', deep.expected_value)"
   ]
  },
  {
   "cell_type": "markdown",
   "metadata": {},
   "source": [
    "## Results - Models with only one feature"
   ]
  },
  {
   "cell_type": "code",
   "execution_count": null,
   "metadata": {},
   "outputs": [],
   "source": [
    "selected_features = [0, 1, 2, 3, 4, 5] \n",
    "background_type = 'balanced'\n",
    "current = 'a' # a, b, c or d\n",
    "x_test_section_2 = np.load(path + f'x_test_area_{current}.npy').astype(np.float16)\n",
    "y_test_section_2 = np.load(path + f'y_test_area_{current}.npy').astype(np.float16)  \n",
    "x_test_section_2 = x_test_section_2[..., number:number+1]  \n",
    "shape1, shape2 = x_test_section_2.shape[0], x_test_section_2.shape[1]\n",
    "\n",
    "## Background sampling\n",
    "possible_idx = []\n",
    "\n",
    "for n in range(y_train.shape[0]):\n",
    "  if (y_train[n].sum() < 150) and (y_train[n].sum() > 116):\n",
    "    possible_idx.append(n)\n",
    "\n",
    "sampled_idx = np.random.choice(possible_idx, size = 100, replace = False)\n",
    "background_samples = x_train[sampled_idx]\n",
    "\n",
    "## Explain each model\n",
    "for number in selected_features:\n",
    "\n",
    "  model = keras.models.load_model(f'../model/models/model_5x5_8filters_only_{number}.h5')\n",
    "  \n",
    "  flattened_model = Sequential()\n",
    "  flattened_model.add(model)\n",
    "  flattened_model.add(Flatten())\n",
    "  flattened_model.compile()\n",
    "\n",
    "  deep = shap.DeepExplainer(flattened_model, background_samples)\n",
    "\n",
    "  sampleSize = 16\n",
    "  step_div = 2\n",
    "  step = int(sampleSize/step_div)\n",
    "\n",
    "  total_samples = 0\n",
    "  for i in range(int(shape1/(step)) - (step_div - 1)):\n",
    "    for w in range(int(shape2/(step)) - (step_div - 1)):\n",
    "      total_samples += 1\n",
    "\n",
    "  x_predicted_full = np.empty(\n",
    "    (shape1, shape2, 1))\n",
    "\n",
    "  channel_contribution_full = np.empty(\n",
    "    (shape1, shape2, 1))\n",
    "\n",
    "  approximation_full = np.empty(\n",
    "    (shape1, shape2))\n",
    "\n",
    "  x_sampled = np.empty((total_samples, sampleSize, sampleSize, 1))\n",
    "  channel_contribution_list = []\n",
    "  approximation_list = []\n",
    "    \n",
    "  for i in range(int(shape1/(step)) - (step_div - 1)):\n",
    "    istart = int(step * i)\n",
    "    iend = int(istart + sampleSize)\n",
    "    for w in range(int(shape2/(step)) - (step_div - 1)):\n",
    "      wstart = int(step * w)\n",
    "      wend = int(wstart + sampleSize)\n",
    "      x_sampled[n] = x_test_section_2[istart : iend, wstart : wend, :].reshape(1, sampleSize, sampleSize, 1)\n",
    "\n",
    "      shap_values = deep.shap_values(x_sampled[n:n+1])\n",
    "\n",
    "      channel_contribution = np.array([shap.sum(axis = 1).sum(axis = 1) for shap in shap_values]).reshape(16, 16, 1)\n",
    "      sum_of_shap_values = [shap.sum() for shap in shap_values]\n",
    "      approximation = tf.reshape((np.array(sum_of_shap_values) + deep.expected_value), (16, 16))\n",
    "\n",
    "      channel_contribution_list.append(channel_contribution)\n",
    "      approximation_list.append(approximation)\n",
    "\n",
    "      print(f'Concluded {n + 1}/{total}')\n",
    "\n",
    "      n += 1\n",
    "\n",
    "  predicted = model.predict(compx)\n",
    "\n",
    "  n = 0\n",
    "  for i in range(int(shape1/(step)) - (step_div - 1)):\n",
    "    istart = int(step * i)\n",
    "    iend = int(istart + sampleSize)\n",
    "    for w in range(int(shape2/(step)) - (step_div - 1)):\n",
    "      wstart = int(step * w)\n",
    "      wend = int(wstart + sampleSize)\n",
    "      x_predicted_full[istart : iend, wstart : wend] = predicted[n]\n",
    "      channel_contribution_full[istart : iend, wstart : wend] = channel_contribution_list[n]\n",
    "      approximation_full[istart : iend, wstart : wend] = approximation_list[n]\n",
    "\n",
    "      n += 1\n",
    "\n",
    "  np.save(path + f'approximation_full_{current}-{background_type}_only{number}.npy', approximation_full)\n",
    "  np.save(path + f'channel_contribution_full_{current}-{background_type}_only{number}.npy', channel_contribution_full)\n",
    "  np.save(path + f'x_predicted_full_{current}-{background_type}_only{number}.npy', x_predicted_full)\n",
    "  np.save(path + f'expected_value-{background_type}_only{number}.npy', deep.expected_value)"
   ]
  }
 ],
 "metadata": {
  "accelerator": "GPU",
  "colab": {
   "collapsed_sections": [
    "wCwSRa2rGczV",
    "VLvmh-S3JYPp"
   ],
   "name": "XAI.ipynb",
   "provenance": [],
   "toc_visible": true
  },
  "kernelspec": {
   "display_name": "Python 3",
   "language": "python",
   "name": "python3"
  },
  "language_info": {
   "codemirror_mode": {
    "name": "ipython",
    "version": 3
   },
   "file_extension": ".py",
   "mimetype": "text/x-python",
   "name": "python",
   "nbconvert_exporter": "python",
   "pygments_lexer": "ipython3",
   "version": "3.8.10"
  }
 },
 "nbformat": 4,
 "nbformat_minor": 2
}
